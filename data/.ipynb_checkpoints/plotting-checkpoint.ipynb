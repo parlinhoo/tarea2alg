{
 "cells": [
  {
   "cell_type": "code",
   "execution_count": 89,
   "id": "c928f046-7093-4f56-bd69-8218352607d6",
   "metadata": {},
   "outputs": [],
   "source": [
    "import pandas as pd\n",
    "import seaborn as sns\n",
    "import matplotlib.pyplot as plt\n",
    "import warnings\n",
    "import numpy as np\n",
    "from mpl_toolkits.mplot3d import Axes3D\n",
    "from matplotlib.backends.backend_pdf import PdfPages\n",
    "warnings.filterwarnings(\"ignore\")"
   ]
  },
  {
   "cell_type": "code",
   "execution_count": 90,
   "id": "d23a82d7-7075-4727-8930-de762578e7ca",
   "metadata": {},
   "outputs": [
    {
     "data": {
      "text/html": [
       "<div>\n",
       "<style scoped>\n",
       "    .dataframe tbody tr th:only-of-type {\n",
       "        vertical-align: middle;\n",
       "    }\n",
       "\n",
       "    .dataframe tbody tr th {\n",
       "        vertical-align: top;\n",
       "    }\n",
       "\n",
       "    .dataframe thead th {\n",
       "        text-align: right;\n",
       "    }\n",
       "</style>\n",
       "<table border=\"1\" class=\"dataframe\">\n",
       "  <thead>\n",
       "    <tr style=\"text-align: right;\">\n",
       "      <th></th>\n",
       "      <th>algorithm</th>\n",
       "      <th>text_1_size</th>\n",
       "      <th>text_2_size</th>\n",
       "      <th>time</th>\n",
       "      <th>space</th>\n",
       "    </tr>\n",
       "  </thead>\n",
       "  <tbody>\n",
       "    <tr>\n",
       "      <th>0</th>\n",
       "      <td>dp</td>\n",
       "      <td>10</td>\n",
       "      <td>10</td>\n",
       "      <td>32693.1</td>\n",
       "      <td>4734976.0</td>\n",
       "    </tr>\n",
       "    <tr>\n",
       "      <th>1</th>\n",
       "      <td>dp</td>\n",
       "      <td>10</td>\n",
       "      <td>20</td>\n",
       "      <td>32618.2</td>\n",
       "      <td>4734976.0</td>\n",
       "    </tr>\n",
       "    <tr>\n",
       "      <th>2</th>\n",
       "      <td>dp</td>\n",
       "      <td>10</td>\n",
       "      <td>30</td>\n",
       "      <td>42105.2</td>\n",
       "      <td>4741939.2</td>\n",
       "    </tr>\n",
       "    <tr>\n",
       "      <th>3</th>\n",
       "      <td>dp</td>\n",
       "      <td>10</td>\n",
       "      <td>40</td>\n",
       "      <td>40225.5</td>\n",
       "      <td>4742348.8</td>\n",
       "    </tr>\n",
       "    <tr>\n",
       "      <th>4</th>\n",
       "      <td>dp</td>\n",
       "      <td>10</td>\n",
       "      <td>50</td>\n",
       "      <td>41919.1</td>\n",
       "      <td>4742758.4</td>\n",
       "    </tr>\n",
       "  </tbody>\n",
       "</table>\n",
       "</div>"
      ],
      "text/plain": [
       "  algorithm  text_1_size  text_2_size     time      space\n",
       "0        dp           10           10  32693.1  4734976.0\n",
       "1        dp           10           20  32618.2  4734976.0\n",
       "2        dp           10           30  42105.2  4741939.2\n",
       "3        dp           10           40  40225.5  4742348.8\n",
       "4        dp           10           50  41919.1  4742758.4"
      ]
     },
     "execution_count": 90,
     "metadata": {},
     "output_type": "execute_result"
    }
   ],
   "source": [
    "import pandas as pd\n",
    "import seaborn as sns\n",
    "import matplotlib.pyplot as plt\n",
    "\n",
    "def load_and_group(csv_path: str) -> pd.DataFrame:\n",
    "    df = pd.read_csv(csv_path)\n",
    "\n",
    "    # Group by algorithm and input sizes, compute both metrics\n",
    "    grouped = df.groupby(['algorithm', 'text_1_size', 'text_2_size']).agg({\n",
    "        'time': 'mean',\n",
    "        'space': 'mean'\n",
    "    }).reset_index()\n",
    "\n",
    "    return grouped\n",
    "\n",
    "# Load CSV\n",
    "df = pd.read_csv(\"./results.csv\")\n",
    "\n",
    "grouped = load_and_group(\"./results.csv\")\n",
    "grouped.head()\n"
   ]
  },
  {
   "cell_type": "code",
   "execution_count": 91,
   "id": "79e5827d-2813-497d-97f6-8c2da396f5af",
   "metadata": {},
   "outputs": [],
   "source": [
    "\n",
    "def plot_surface(grouped_df: pd.DataFrame, metric: str, output_file_name: str):\n",
    "    algorithms = grouped_df['algorithm'].unique()\n",
    "    \n",
    "    with PdfPages(output_file_name) as pdf:\n",
    "        for algo in algorithms:\n",
    "            df_algo = grouped_df[grouped_df['algorithm'] == algo]\n",
    "    \n",
    "            pivot = df_algo.pivot(index='text_1_size', columns='text_2_size', values=metric)\n",
    "            X = pivot.columns.values\n",
    "            Y = pivot.index.values\n",
    "            X, Y = np.meshgrid(X, Y)\n",
    "            Z = pivot.values\n",
    "    \n",
    "            fig = plt.figure(figsize=(10, 7))\n",
    "            ax = fig.add_subplot(111, projection='3d')\n",
    "            surf = ax.plot_surface(X, Y, Z, cmap='viridis', edgecolor='k', linewidth=0.3, alpha=0.9)\n",
    "    \n",
    "            if metric == \"space\":\n",
    "                metric_title = \"Espacio (bytes)\"\n",
    "            else:\n",
    "                metric_title = \"Tiempo  (ns)\"\n",
    "            ax.set_title(f\"{algo.upper()}\")\n",
    "            ax.set_xlabel(\"Tamaño texto 2\")\n",
    "            ax.set_ylabel(\"Tamaño texto 1\")\n",
    "            ax.set_zlabel(metric_title)\n",
    "    \n",
    "            fig.colorbar(surf, shrink=0.5, aspect=5)\n",
    "            plt.tight_layout()\n",
    "            pdf.savefig(fig)\n",
    "            plt.close(fig)\n",
    "\n",
    "\n",
    "\n",
    "def plot_diagonal(grouped_df: pd.DataFrame, metric: str, output_file_name):\n",
    "    df_diag = grouped_df[grouped_df['text_1_size'] == grouped_df['text_2_size']].copy()\n",
    "    df_diag = df_diag.rename(columns={'text_1_size': 'input_size'})\n",
    "\n",
    "    plt.figure(figsize=(10, 6))\n",
    "    sns.lineplot(data=df_diag, x='input_size', y=metric, hue='algorithm', marker='o')\n",
    "\n",
    "    # plt.title(f\"{metric.capitalize()} vs Input Size (Diagonal)\")\n",
    "    plt.xlabel(\"Tamaño textos (|texto 1| = |texto 2|)\")\n",
    "    if metric == \"time\":\n",
    "        plt.ylabel(\"Tiempo (ns)\")\n",
    "    else:\n",
    "        plt.ylabel(\"Espacio (bytes)\")\n",
    "\n",
    "    plt.legend(title='Algoritmo', loc='upper left')\n",
    "\n",
    "    plt.grid(True)\n",
    "    plt.tight_layout()\n",
    "\n",
    "    with PdfPages(output_file_name) as pdf:\n",
    "        pdf.savefig()\n",
    "        plt.close()"
   ]
  },
  {
   "cell_type": "code",
   "execution_count": 92,
   "id": "c762b961-e8d3-4d28-95f1-a1857da92fca",
   "metadata": {},
   "outputs": [],
   "source": [
    "# Example usage\n",
    "plot_surface(grouped, \"time\", \"tiempo.pdf\")"
   ]
  },
  {
   "cell_type": "code",
   "execution_count": 93,
   "id": "b6e10297-15b8-4ce8-8af6-a73533213913",
   "metadata": {},
   "outputs": [],
   "source": [
    "plot_surface(grouped, \"space\", \"espacio.pdf\")\n"
   ]
  },
  {
   "cell_type": "code",
   "execution_count": 94,
   "id": "6397eda6-e139-4172-b207-e3a39155dde9",
   "metadata": {},
   "outputs": [
    {
     "ename": "ValueError",
     "evalue": "'upper middle' is not a valid value for loc; supported values are 'best', 'upper right', 'upper left', 'lower left', 'lower right', 'right', 'center left', 'center right', 'lower center', 'upper center', 'center'",
     "output_type": "error",
     "traceback": [
      "\u001b[0;31m---------------------------------------------------------------------------\u001b[0m",
      "\u001b[0;31mValueError\u001b[0m                                Traceback (most recent call last)",
      "Cell \u001b[0;32mIn[94], line 1\u001b[0m\n\u001b[0;32m----> 1\u001b[0m plot_diagonal(grouped, \u001b[38;5;124m\"\u001b[39m\u001b[38;5;124mtime\u001b[39m\u001b[38;5;124m\"\u001b[39m, \u001b[38;5;124m\"\u001b[39m\u001b[38;5;124mtiempo_iguales.pdf\u001b[39m\u001b[38;5;124m\"\u001b[39m)\n",
      "Cell \u001b[0;32mIn[91], line 48\u001b[0m, in \u001b[0;36mplot_diagonal\u001b[0;34m(grouped_df, metric, output_file_name)\u001b[0m\n\u001b[1;32m     45\u001b[0m \u001b[38;5;28;01melse\u001b[39;00m:\n\u001b[1;32m     46\u001b[0m     plt\u001b[38;5;241m.\u001b[39mylabel(\u001b[38;5;124m\"\u001b[39m\u001b[38;5;124mEspacio (bytes)\u001b[39m\u001b[38;5;124m\"\u001b[39m)\n\u001b[0;32m---> 48\u001b[0m plt\u001b[38;5;241m.\u001b[39mlegend(title\u001b[38;5;241m=\u001b[39m\u001b[38;5;124m'\u001b[39m\u001b[38;5;124mAlgoritmo\u001b[39m\u001b[38;5;124m'\u001b[39m, loc\u001b[38;5;241m=\u001b[39m\u001b[38;5;124m'\u001b[39m\u001b[38;5;124mupper middle\u001b[39m\u001b[38;5;124m'\u001b[39m)\n\u001b[1;32m     50\u001b[0m plt\u001b[38;5;241m.\u001b[39mgrid(\u001b[38;5;28;01mTrue\u001b[39;00m)\n\u001b[1;32m     51\u001b[0m plt\u001b[38;5;241m.\u001b[39mtight_layout()\n",
      "File \u001b[0;32m~/.local/lib/python3.11/site-packages/matplotlib/pyplot.py:2710\u001b[0m, in \u001b[0;36mlegend\u001b[0;34m(*args, **kwargs)\u001b[0m\n\u001b[1;32m   2708\u001b[0m \u001b[38;5;129m@_copy_docstring_and_deprecators\u001b[39m(Axes\u001b[38;5;241m.\u001b[39mlegend)\n\u001b[1;32m   2709\u001b[0m \u001b[38;5;28;01mdef\u001b[39;00m \u001b[38;5;21mlegend\u001b[39m(\u001b[38;5;241m*\u001b[39margs, \u001b[38;5;241m*\u001b[39m\u001b[38;5;241m*\u001b[39mkwargs):\n\u001b[0;32m-> 2710\u001b[0m     \u001b[38;5;28;01mreturn\u001b[39;00m gca()\u001b[38;5;241m.\u001b[39mlegend(\u001b[38;5;241m*\u001b[39margs, \u001b[38;5;241m*\u001b[39m\u001b[38;5;241m*\u001b[39mkwargs)\n",
      "File \u001b[0;32m~/.local/lib/python3.11/site-packages/matplotlib/axes/_axes.py:318\u001b[0m, in \u001b[0;36mAxes.legend\u001b[0;34m(self, *args, **kwargs)\u001b[0m\n\u001b[1;32m    316\u001b[0m \u001b[38;5;28;01mif\u001b[39;00m \u001b[38;5;28mlen\u001b[39m(extra_args):\n\u001b[1;32m    317\u001b[0m     \u001b[38;5;28;01mraise\u001b[39;00m \u001b[38;5;167;01mTypeError\u001b[39;00m(\u001b[38;5;124m'\u001b[39m\u001b[38;5;124mlegend only accepts two non-keyword arguments\u001b[39m\u001b[38;5;124m'\u001b[39m)\n\u001b[0;32m--> 318\u001b[0m \u001b[38;5;28mself\u001b[39m\u001b[38;5;241m.\u001b[39mlegend_ \u001b[38;5;241m=\u001b[39m mlegend\u001b[38;5;241m.\u001b[39mLegend(\u001b[38;5;28mself\u001b[39m, handles, labels, \u001b[38;5;241m*\u001b[39m\u001b[38;5;241m*\u001b[39mkwargs)\n\u001b[1;32m    319\u001b[0m \u001b[38;5;28mself\u001b[39m\u001b[38;5;241m.\u001b[39mlegend_\u001b[38;5;241m.\u001b[39m_remove_method \u001b[38;5;241m=\u001b[39m \u001b[38;5;28mself\u001b[39m\u001b[38;5;241m.\u001b[39m_remove_legend\n\u001b[1;32m    320\u001b[0m \u001b[38;5;28;01mreturn\u001b[39;00m \u001b[38;5;28mself\u001b[39m\u001b[38;5;241m.\u001b[39mlegend_\n",
      "File \u001b[0;32m~/.local/lib/python3.11/site-packages/matplotlib/_api/deprecation.py:454\u001b[0m, in \u001b[0;36mmake_keyword_only.<locals>.wrapper\u001b[0;34m(*args, **kwargs)\u001b[0m\n\u001b[1;32m    448\u001b[0m \u001b[38;5;28;01mif\u001b[39;00m \u001b[38;5;28mlen\u001b[39m(args) \u001b[38;5;241m>\u001b[39m name_idx:\n\u001b[1;32m    449\u001b[0m     warn_deprecated(\n\u001b[1;32m    450\u001b[0m         since, message\u001b[38;5;241m=\u001b[39m\u001b[38;5;124m\"\u001b[39m\u001b[38;5;124mPassing the \u001b[39m\u001b[38;5;132;01m%(name)s\u001b[39;00m\u001b[38;5;124m \u001b[39m\u001b[38;5;132;01m%(obj_type)s\u001b[39;00m\u001b[38;5;124m \u001b[39m\u001b[38;5;124m\"\u001b[39m\n\u001b[1;32m    451\u001b[0m         \u001b[38;5;124m\"\u001b[39m\u001b[38;5;124mpositionally is deprecated since Matplotlib \u001b[39m\u001b[38;5;132;01m%(since)s\u001b[39;00m\u001b[38;5;124m; the \u001b[39m\u001b[38;5;124m\"\u001b[39m\n\u001b[1;32m    452\u001b[0m         \u001b[38;5;124m\"\u001b[39m\u001b[38;5;124mparameter will become keyword-only \u001b[39m\u001b[38;5;132;01m%(removal)s\u001b[39;00m\u001b[38;5;124m.\u001b[39m\u001b[38;5;124m\"\u001b[39m,\n\u001b[1;32m    453\u001b[0m         name\u001b[38;5;241m=\u001b[39mname, obj_type\u001b[38;5;241m=\u001b[39m\u001b[38;5;124mf\u001b[39m\u001b[38;5;124m\"\u001b[39m\u001b[38;5;124mparameter of \u001b[39m\u001b[38;5;132;01m{\u001b[39;00mfunc\u001b[38;5;241m.\u001b[39m\u001b[38;5;18m__name__\u001b[39m\u001b[38;5;132;01m}\u001b[39;00m\u001b[38;5;124m()\u001b[39m\u001b[38;5;124m\"\u001b[39m)\n\u001b[0;32m--> 454\u001b[0m \u001b[38;5;28;01mreturn\u001b[39;00m func(\u001b[38;5;241m*\u001b[39margs, \u001b[38;5;241m*\u001b[39m\u001b[38;5;241m*\u001b[39mkwargs)\n",
      "File \u001b[0;32m~/.local/lib/python3.11/site-packages/matplotlib/legend.py:530\u001b[0m, in \u001b[0;36mLegend.__init__\u001b[0;34m(self, parent, handles, labels, loc, numpoints, markerscale, markerfirst, reverse, scatterpoints, scatteryoffsets, prop, fontsize, labelcolor, borderpad, labelspacing, handlelength, handleheight, handletextpad, borderaxespad, columnspacing, ncols, mode, fancybox, shadow, title, title_fontsize, framealpha, edgecolor, facecolor, bbox_to_anchor, bbox_transform, frameon, handler_map, title_fontproperties, alignment, ncol, draggable)\u001b[0m\n\u001b[1;32m    528\u001b[0m             loc \u001b[38;5;241m=\u001b[39m locs[\u001b[38;5;241m0\u001b[39m] \u001b[38;5;241m+\u001b[39m \u001b[38;5;124m'\u001b[39m\u001b[38;5;124m \u001b[39m\u001b[38;5;124m'\u001b[39m \u001b[38;5;241m+\u001b[39m locs[\u001b[38;5;241m1\u001b[39m]\n\u001b[1;32m    529\u001b[0m     \u001b[38;5;66;03m# check that loc is in acceptable strings\u001b[39;00m\n\u001b[0;32m--> 530\u001b[0m     loc \u001b[38;5;241m=\u001b[39m _api\u001b[38;5;241m.\u001b[39mcheck_getitem(\u001b[38;5;28mself\u001b[39m\u001b[38;5;241m.\u001b[39mcodes, loc\u001b[38;5;241m=\u001b[39mloc)\n\u001b[1;32m    532\u001b[0m \u001b[38;5;28;01mif\u001b[39;00m \u001b[38;5;28mself\u001b[39m\u001b[38;5;241m.\u001b[39misaxes \u001b[38;5;129;01mand\u001b[39;00m \u001b[38;5;28mself\u001b[39m\u001b[38;5;241m.\u001b[39m_outside_loc:\n\u001b[1;32m    533\u001b[0m     \u001b[38;5;28;01mraise\u001b[39;00m \u001b[38;5;167;01mValueError\u001b[39;00m(\n\u001b[1;32m    534\u001b[0m         \u001b[38;5;124mf\u001b[39m\u001b[38;5;124m\"\u001b[39m\u001b[38;5;124m'\u001b[39m\u001b[38;5;124moutside\u001b[39m\u001b[38;5;124m'\u001b[39m\u001b[38;5;124m option for loc=\u001b[39m\u001b[38;5;124m'\u001b[39m\u001b[38;5;132;01m{\u001b[39;00mloc0\u001b[38;5;132;01m}\u001b[39;00m\u001b[38;5;124m'\u001b[39m\u001b[38;5;124m keyword argument only \u001b[39m\u001b[38;5;124m\"\u001b[39m\n\u001b[1;32m    535\u001b[0m         \u001b[38;5;124m\"\u001b[39m\u001b[38;5;124mworks for figure legends\u001b[39m\u001b[38;5;124m\"\u001b[39m)\n",
      "File \u001b[0;32m~/.local/lib/python3.11/site-packages/matplotlib/_api/__init__.py:192\u001b[0m, in \u001b[0;36mcheck_getitem\u001b[0;34m(_mapping, **kwargs)\u001b[0m\n\u001b[1;32m    190\u001b[0m     \u001b[38;5;28;01mreturn\u001b[39;00m mapping[v]\n\u001b[1;32m    191\u001b[0m \u001b[38;5;28;01mexcept\u001b[39;00m \u001b[38;5;167;01mKeyError\u001b[39;00m:\n\u001b[0;32m--> 192\u001b[0m     \u001b[38;5;28;01mraise\u001b[39;00m \u001b[38;5;167;01mValueError\u001b[39;00m(\n\u001b[1;32m    193\u001b[0m         \u001b[38;5;124m\"\u001b[39m\u001b[38;5;132;01m{!r}\u001b[39;00m\u001b[38;5;124m is not a valid value for \u001b[39m\u001b[38;5;132;01m{}\u001b[39;00m\u001b[38;5;124m; supported values are \u001b[39m\u001b[38;5;132;01m{}\u001b[39;00m\u001b[38;5;124m\"\u001b[39m\n\u001b[1;32m    194\u001b[0m         \u001b[38;5;241m.\u001b[39mformat(v, k, \u001b[38;5;124m'\u001b[39m\u001b[38;5;124m, \u001b[39m\u001b[38;5;124m'\u001b[39m\u001b[38;5;241m.\u001b[39mjoin(\u001b[38;5;28mmap\u001b[39m(\u001b[38;5;28mrepr\u001b[39m, mapping)))) \u001b[38;5;28;01mfrom\u001b[39;00m \u001b[38;5;28;01mNone\u001b[39;00m\n",
      "\u001b[0;31mValueError\u001b[0m: 'upper middle' is not a valid value for loc; supported values are 'best', 'upper right', 'upper left', 'lower left', 'lower right', 'right', 'center left', 'center right', 'lower center', 'upper center', 'center'"
     ]
    },
    {
     "data": {
      "image/png": "[encoded data removed]",
      "text/plain": [
       "<Figure size 1000x600 with 1 Axes>"
      ]
     },
     "metadata": {},
     "output_type": "display_data"
    }
   ],
   "source": [
    "plot_diagonal(grouped, \"time\", \"tiempo_iguales.pdf\")"
   ]
  },
  {
   "cell_type": "code",
   "execution_count": null,
   "id": "7aa4ea30-93d2-4371-8aee-9951244f3574",
   "metadata": {},
   "outputs": [],
   "source": [
    "plot_diagonal(grouped, \"space\", \"espacio_iguales.pdf\")"
   ]
  },
  {
   "cell_type": "markdown",
   "id": "cbde18f4-3bbe-418b-a991-ee30d5974a6a",
   "metadata": {},
   "source": [
    "## No memo"
   ]
  },
  {
   "cell_type": "code",
   "execution_count": null,
   "id": "bff27e7c-81df-4ef8-a009-5e8d9db10c33",
   "metadata": {},
   "outputs": [],
   "source": [
    "grouped_no_memo = grouped[grouped[\"algorithm\"] != \"memo\"]\n"
   ]
  },
  {
   "cell_type": "code",
   "execution_count": null,
   "id": "4ce1a140-aeff-41a7-94f7-0c79510d6fff",
   "metadata": {},
   "outputs": [],
   "source": [
    "plot_diagonal(grouped_no_memo, \"time\", \"tiempo_no_memo.pdf\")"
   ]
  },
  {
   "cell_type": "code",
   "execution_count": null,
   "id": "1214e0cf-1a2b-4513-afa8-7e8f28bd01b7",
   "metadata": {},
   "outputs": [],
   "source": [
    "plot_diagonal(grouped_no_memo, \"space\", \"espacio_no_memo.pdf\")"
   ]
  },
  {
   "cell_type": "code",
   "execution_count": null,
   "id": "343174ee-ec17-448d-ac87-e88f2a27eb52",
   "metadata": {},
   "outputs": [],
   "source": []
  }
 ],
 "metadata": {
  "kernelspec": {
   "display_name": "Python 3 (ipykernel)",
   "language": "python",
   "name": "python3"
  },
  "language_info": {
   "codemirror_mode": {
    "name": "ipython",
    "version": 3
   },
   "file_extension": ".py",
   "mimetype": "text/x-python",
   "name": "python",
   "nbconvert_exporter": "python",
   "pygments_lexer": "ipython3",
   "version": "3.11.4"
  }
 },
 "nbformat": 4,
 "nbformat_minor": 5
}
